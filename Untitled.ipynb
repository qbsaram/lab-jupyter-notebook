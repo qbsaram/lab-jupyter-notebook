{
 "cells": [
  {
   "cell_type": "markdown",
   "id": "5972b6a8",
   "metadata": {},
   "source": [
    "![Ironhack logo](https://i.imgur.com/1QgrNNw.png)\n",
    "\n",
    "# Lab | Jupyter Notebook\n",
    "\n",
    "## Introduction\n",
    "\n",
    "Creating a Jupyter notebook that is well commented and tells the story of your code / project is very important. It will be relevant for your upcoming projects during the bootcamp.\n",
    "\n",
    "## Getting Started\n",
    "\n",
    "Open the jupyter notebook file `main.ipynb` in the `your-code` directory. Inside the file you should do the following steps:\n",
    "\n",
    "- In the notebook that you created, introduce someone and her/his holidays preference with a picture and a link to a youtube video of this holiday preference (It can be you :D).\n",
    "- Explain the purpose of the notebook with beautiful markdown!\n",
    "- Include an index to the relevant sections of your notebook\n",
    "- Write a function that inputs the user's name (You or a friend)\n",
    "- Add a photo of you or that friend.\n",
    "- Write a function that inputs their holidays preference.\n",
    "- Add a photo of you or that friend in the holiday destination \n",
    "- Add bullet points of the top 3 things that you or your friend like doing in this destination.\n",
    "- Try to make the text colorful, bold or italic.\n",
    "- Add a link to a youtube video of the destination.\n",
    "- Add titles to all sections you have created, and then create hyperlinks from the elements of the index to their corresponding section title.\n",
    "\n",
    "## Deliverables\n",
    "\n",
    "- `main.ipynb` with your responses.\n",
    "\n",
    "## Submission\n",
    "\n",
    "Upon completion, add your deliverables to git. Then commit git and push your branch to the remote.\n",
    "\n",
    "## Resources\n",
    "\n",
    "[Jupyter Notebooks Markdown Cheatsheet](https://www.ibm.com/support/knowledgecenter/SSHGWL_1.2.3/analyze-data/markd-jupyter.html)"
   ]
  },
  {
   "cell_type": "code",
   "execution_count": null,
   "id": "712724d3",
   "metadata": {},
   "outputs": [],
   "source": []
  }
 ],
 "metadata": {
  "kernelspec": {
   "display_name": "Python 3",
   "language": "python",
   "name": "python3"
  },
  "language_info": {
   "codemirror_mode": {
    "name": "ipython",
    "version": 3
   },
   "file_extension": ".py",
   "mimetype": "text/x-python",
   "name": "python",
   "nbconvert_exporter": "python",
   "pygments_lexer": "ipython3",
   "version": "3.8.8"
  }
 },
 "nbformat": 4,
 "nbformat_minor": 5
}
